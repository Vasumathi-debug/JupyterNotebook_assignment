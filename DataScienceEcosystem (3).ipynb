{
  "metadata": {
    "kernelspec": {
      "name": "python",
      "display_name": "Python (Pyodide)",
      "language": "python"
    },
    "language_info": {
      "codemirror_mode": {
        "name": "python",
        "version": 3
      },
      "file_extension": ".py",
      "mimetype": "text/x-python",
      "name": "python",
      "nbconvert_exporter": "python",
      "pygments_lexer": "ipython3",
      "version": "3.8"
    }
  },
  "nbformat_minor": 4,
  "nbformat": 4,
  "cells": [
    {
      "cell_type": "markdown",
      "source": "## In this notebook, Data Science Tools and Ecosystem are summarized.",
      "metadata": {}
    },
    {
      "cell_type": "code",
      "source": "# **Objectives:**\n### To identify the criteria for determining the language to learn,and list the roles involved in data science.\n    \n## List popular languages for Data Science\n* Python\n* R\n* SQL\n* Scala\n* Java\n* C++\n* Julia \n* JavaScript\n* PHP\n* Go \n* Ruby \n* Visual Basic",
      "metadata": {
        "trusted": true
      },
      "outputs": [],
      "execution_count": null
    },
    {
      "cell_type": "markdown",
      "source": "# **Objectives:**\n### To identify the criteria for determining the language to learn,and list the roles involved in data science.\n    \n## List popular languages for Data Science\n* Python\n* R\n* SQL\n* Scala\n* Java\n* C++\n* Julia \n* JavaScript\n* PHP\n* Go \n* Ruby \n* Visual Basic",
      "metadata": {}
    },
    {
      "cell_type": "code",
      "source": "",
      "metadata": {
        "trusted": true
      },
      "outputs": [],
      "execution_count": null
    },
    {
      "cell_type": "code",
      "source": "## Some of the popular languages that Data Scientists use are:\n",
      "metadata": {
        "trusted": true
      },
      "outputs": [],
      "execution_count": null
    },
    {
      "cell_type": "markdown",
      "source": "## Some of the popular languages that Data Scientists use are:\n",
      "metadata": {}
    },
    {
      "cell_type": "code",
      "source": "1. python\n2. R\n3. Hadoop\n4. Julia",
      "metadata": {
        "trusted": true
      },
      "outputs": [],
      "execution_count": null
    },
    {
      "cell_type": "markdown",
      "source": "1. python\n2. R\n3. Hadoop\n4. Julia",
      "metadata": {}
    },
    {
      "cell_type": "code",
      "source": "#### Some of the commonly used libraries used by Data Scientists include:",
      "metadata": {
        "trusted": true
      },
      "outputs": [],
      "execution_count": null
    },
    {
      "cell_type": "markdown",
      "source": "#### Some of the commonly used libraries used by Data Scientists include:",
      "metadata": {}
    },
    {
      "cell_type": "markdown",
      "source": "1. Numpy\n2. panda\n3. Matpotlib",
      "metadata": {
        "jp-MarkdownHeadingCollapsed": true
      }
    },
    {
      "cell_type": "code",
      "source": "1. Numpy\n2. panda\n3. Matpotlib",
      "metadata": {
        "jp-MarkdownHeadingCollapsed": true,
        "trusted": true
      },
      "outputs": [],
      "execution_count": null
    },
    {
      "cell_type": "code",
      "source": "### Three development environment open source tools used in data science.",
      "metadata": {
        "trusted": true
      },
      "outputs": [],
      "execution_count": null
    },
    {
      "cell_type": "markdown",
      "source": "### Three development environment open source tools used in data science.",
      "metadata": {}
    },
    {
      "cell_type": "code",
      "source": "import pandas as pd\n\ndata = {\n    'DataScienceTools': ['Python', 'R', 'Apache Spark', 'Hadoop', 'Tensor Flow','scikit-learn']\n   }\ndf = pd.DataFrame(data)\ndf\n",
      "metadata": {
        "trusted": true
      },
      "outputs": [
        {
          "execution_count": 2,
          "output_type": "execute_result",
          "data": {
            "text/plain": "  DataScienceTools\n0           Python\n1                R\n2     Apache Spark\n3           Hadoop\n4      Tensor Flow\n5     scikit-learn",
            "text/html": "<div>\n<style scoped>\n    .dataframe tbody tr th:only-of-type {\n        vertical-align: middle;\n    }\n\n    .dataframe tbody tr th {\n        vertical-align: top;\n    }\n\n    .dataframe thead th {\n        text-align: right;\n    }\n</style>\n<table border=\"1\" class=\"dataframe\">\n  <thead>\n    <tr style=\"text-align: right;\">\n      <th></th>\n      <th>DataScienceTools</th>\n    </tr>\n  </thead>\n  <tbody>\n    <tr>\n      <th>0</th>\n      <td>Python</td>\n    </tr>\n    <tr>\n      <th>1</th>\n      <td>R</td>\n    </tr>\n    <tr>\n      <th>2</th>\n      <td>Apache Spark</td>\n    </tr>\n    <tr>\n      <th>3</th>\n      <td>Hadoop</td>\n    </tr>\n    <tr>\n      <th>4</th>\n      <td>Tensor Flow</td>\n    </tr>\n    <tr>\n      <th>5</th>\n      <td>scikit-learn</td>\n    </tr>\n  </tbody>\n</table>\n</div>"
          },
          "metadata": {}
        }
      ],
      "execution_count": 2
    },
    {
      "cell_type": "code",
      "source": "### Below are a few examples of evaluating arithmetic expressions in Python",
      "metadata": {
        "trusted": true
      },
      "outputs": [],
      "execution_count": null
    },
    {
      "cell_type": "markdown",
      "source": "### Below are a few examples of evaluating arithmetic expressions in Python",
      "metadata": {}
    },
    {
      "cell_type": "code",
      "source": "#### This a simple arithmetic expression to mutiply then add integers\na=3\nb=4\nc=5\nd=(a*b)+c\nprint(d)",
      "metadata": {
        "trusted": true
      },
      "outputs": [
        {
          "name": "stdout",
          "text": "17\n",
          "output_type": "stream"
        }
      ],
      "execution_count": 3
    },
    {
      "cell_type": "code",
      "source": "#### This will convert 200 minutes to hours by diving by 60\nminutes=200\nhr=((minutes)/60)\nprint(hr)",
      "metadata": {
        "trusted": true
      },
      "outputs": [
        {
          "name": "stdout",
          "text": "3.3333333333333335\n",
          "output_type": "stream"
        }
      ],
      "execution_count": 5
    },
    {
      "cell_type": "markdown",
      "source": "##  Author : Vasumathi M",
      "metadata": {}
    }
  ]
}